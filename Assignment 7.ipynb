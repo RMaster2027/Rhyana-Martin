{
 "cells": [
  {
   "cell_type": "code",
   "execution_count": 3,
   "id": "118100a4-dba2-4dae-9bc3-c82c2c41bb8c",
   "metadata": {},
   "outputs": [
    {
     "name": "stdout",
     "output_type": "stream",
     "text": [
      "4.098981641534331e-05\n"
     ]
    }
   ],
   "source": [
    "#imports\n",
    "import numpy as np\n",
    "from scipy.special import gamma \n",
    "\n",
    "#initialize function\n",
    "def t_distribution_pdf(x, nu): \n",
    "    #parametrize\n",
    "    x = 10                     \n",
    "    nu = 5\n",
    "    #Provided code\n",
    "    coeff = gamma((nu + 1) / 2) / (np.sqrt(nu * np.pi) * gamma(nu / 2))\n",
    "    density = coeff * (1 + x**2 / nu) ** (-0.5 * (nu + 1))\n",
    "    return density\n",
    "    \n",
    "#print statement     \n",
    "print (t_distribution_pdf(10, 5))"
   ]
  },
  {
   "cell_type": "code",
   "execution_count": 8,
   "id": "b15d09fa-054a-416d-8a12-28ea7f85f56f",
   "metadata": {},
   "outputs": [
    {
     "name": "stdout",
     "output_type": "stream",
     "text": [
      "The student test score mean value is: 82.382\n",
      "The student test score standard deviation is: 10.193467189005581\n"
     ]
    }
   ],
   "source": [
    "#Test scores for students\n",
    "student_test_scores = [92.64,79.00,84.79,97.41,93.68,65.23,84.50,73.49,73.97,79.11]\n",
    "\n",
    "#Mean/average formula\n",
    "mean = np.mean(student_test_scores)\n",
    "\n",
    "#initialize std_deviation function\n",
    "def std_dev(student_test_scores):\n",
    "    #before summation symbol\n",
    "    diff_squared = ((x-mean)**2 for x in student_test_scores)\n",
    "    #with summation symbol\n",
    "    summation = sum(diff_squared)\n",
    "    #provided std deviation where n=10\n",
    "    std_dev = np.sqrt((1/(10-1)*summation))\n",
    "    return std_dev\n",
    "#print statements\n",
    "print (\"The student test score mean value is:\", mean)\n",
    "print (\"The student test score standard deviation is:\", std_dev(student_test_scores))"
   ]
  },
  {
   "cell_type": "code",
   "execution_count": 60,
   "id": "413ce1f3-a5ba-4b48-99dc-619ef7d805e1",
   "metadata": {},
   "outputs": [
    {
     "name": "stdout",
     "output_type": "stream",
     "text": [
      "The value of t0 is: 2.290087686017293\n"
     ]
    }
   ],
   "source": [
    "#Initialize variable to equal percentage 75/100\n",
    "U0 = 75\n",
    "\n",
    "#function for t0 where n=number of test scores\n",
    "t0 = (mean-U0)/((std_dev(test_scores)/np.sqrt(10)))\n",
    "\n",
    "#print statement\n",
    "print (\"The value of t0 is:\", t0)"
   ]
  },
  {
   "cell_type": "code",
   "execution_count": 103,
   "id": "ece59a63-f1ac-40a1-94e9-bf119f1da0fc",
   "metadata": {},
   "outputs": [
    {
     "name": "stdout",
     "output_type": "stream",
     "text": [
      "The t* value for a certainty of 0.95 and degrees of freedom 9.0 is: 2.2522252225222523\n"
     ]
    }
   ],
   "source": [
    "def t_distribution_pdf(x, nu):\n",
    "    return t.pdf(x, nu)\n",
    "\n",
    "def find_t_star(prob, nu, x_start=0, x_end=20, num_points=10000):\n",
    "    # Define the x values\n",
    "    x = np.linspace(x_start, x_end, num_points)\n",
    "    \n",
    "    # Apply the density function to the x values\n",
    "    y = t_distribution_pdf(x, nu)\n",
    "    \n",
    "    # Integration using cumulative sum\n",
    "    cdf = np.cumsum(y) * (x[1] - x[0])\n",
    "    \n",
    "    # Find the t-value where the cumulative probability reaches half of the required probability\n",
    "    target_half_prob = prob / 2\n",
    "    \n",
    "    # Check if the cumulative distribution function has values\n",
    "    if np.any(cdf >= target_half_prob):\n",
    "        index = np.where(cdf >= target_half_prob)[0][0]\n",
    "        return x[index]\n",
    "        \n",
    "print(\"The t* value for a certainty of\", certainty, \"and degrees of freedom\", nu, \"is:\", t_star)\n",
    "\n",
    "# Degrees of freedom and certainty\n",
    "nu = 9.0 #(n-1) #provided\n",
    "\n",
    "# Call the function find t star\n",
    "t_star = find_t_star(certainty, nu)"
   ]
  },
  {
   "cell_type": "code",
   "execution_count": 111,
   "id": "85073bc2-98f2-40dd-9a36-b6514561c4c6",
   "metadata": {},
   "outputs": [
    {
     "name": "stdout",
     "output_type": "stream",
     "text": [
      "False\n"
     ]
    }
   ],
   "source": [
    "def is_within_interval(t_star, t0):\n",
    "    return -t_star<= t0 <= t_star\n",
    "\n",
    "    #found t_star value\n",
    "    t_star = 2.25  \n",
    "    #found t0 value\n",
    "    t0 = 2.29  \n",
    "\n",
    "result = is_within_interval(t_star, t0)\n",
    "\n",
    "if result:\n",
    "    print(True)\n",
    "else:\n",
    "    print(False)\n"
   ]
  },
  {
   "cell_type": "code",
   "execution_count": null,
   "id": "444de077-a5e7-49b3-aa5e-d767f5fd276b",
   "metadata": {},
   "outputs": [],
   "source": [
    "Conclusion: \n",
    "\n",
    "Q: Can we conclude U0 = 75?\n",
    "\n",
    "We can conclude that the true average score is above 75.\n",
    "\n",
    "Q: Based on the value of t0, would you say that the statistical evidence suggests that the new teaching techniques is beneficial,\n",
    "or detrimental?\n",
    "\n",
    "The statistcal evidence suggests that the new teaching technique is beneficial, as the students performed better on average."
   ]
  }
 ],
 "metadata": {
  "kernelspec": {
   "display_name": "Python 3 (ipykernel)",
   "language": "python",
   "name": "python3"
  },
  "language_info": {
   "codemirror_mode": {
    "name": "ipython",
    "version": 3
   },
   "file_extension": ".py",
   "mimetype": "text/x-python",
   "name": "python",
   "nbconvert_exporter": "python",
   "pygments_lexer": "ipython3",
   "version": "3.11.4"
  }
 },
 "nbformat": 4,
 "nbformat_minor": 5
}
