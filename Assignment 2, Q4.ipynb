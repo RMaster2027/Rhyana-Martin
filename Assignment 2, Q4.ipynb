{
 "cells": [
  {
   "cell_type": "code",
   "execution_count": 73,
   "id": "2329c8c8-a1f8-44bb-819b-8b7a995e3f64",
   "metadata": {},
   "outputs": [
    {
     "name": "stdin",
     "output_type": "stream",
     "text": [
      "a:   0\n",
      "b:   2\n"
     ]
    },
    {
     "name": "stdout",
     "output_type": "stream",
     "text": [
      "0.75\n"
     ]
    }
   ],
   "source": [
    "import math\n",
    "def roots(f, a, b):\n",
    "    \n",
    "    if f(a)*f(b) >= 0:\n",
    "            print(\"error\")\n",
    "        \n",
    "    p = 10 ** -10\n",
    "    \n",
    "    #perform bisection method\n",
    "    while (b - a) > p:\n",
    "        c = a + (b - a) / 2\n",
    "        \n",
    "        if f(c) == 0 or (b - a) / 2 < p:\n",
    "            return round (c,10)\n",
    "            \n",
    "        if f(c) * f(a) < 0:\n",
    "            b = c\n",
    "        else:\n",
    "            a = c\n",
    "            return round ((a + b) / 2, 10)\n",
    "def f(x):\n",
    "    if x == 0:\n",
    "        x=x+10**-10\n",
    "    return math.atan(x) - x**2\n",
    "a = float(input(\"a:  \"))\n",
    "b = float(input(\"b:  \"))\n",
    "print(roots(f, a, b))"
   ]
  },
  {
   "cell_type": "code",
   "execution_count": 68,
   "id": "2bcbc034-0782-43b3-86fe-0964e3b2154b",
   "metadata": {},
   "outputs": [
    {
     "name": "stdin",
     "output_type": "stream",
     "text": [
      "a:   0\n",
      "b:   1\n"
     ]
    },
    {
     "name": "stdout",
     "output_type": "stream",
     "text": [
      "0.375\n"
     ]
    }
   ],
   "source": [
    "def f(x):\n",
    "    if x == 0:\n",
    "        x=x+10**-10\n",
    "    return math.e**x + math.log(x)\n",
    "a = float(input(\"a:  \"))\n",
    "b = float(input(\"b:  \"))\n",
    "print(roots(f, a, b))"
   ]
  },
  {
   "cell_type": "code",
   "execution_count": 66,
   "id": "7ea93f84-7dcd-4b3c-977c-56ef637df21c",
   "metadata": {},
   "outputs": [
    {
     "name": "stdin",
     "output_type": "stream",
     "text": [
      "a:   3\n",
      "b:   4\n"
     ]
    },
    {
     "name": "stdout",
     "output_type": "stream",
     "text": [
      "3.1875\n"
     ]
    }
   ],
   "source": [
    "def f(x):\n",
    "    if x == 0:\n",
    "        x=x+10**-10\n",
    "    return math.sin(x) / math.cos(x)\n",
    "a = float(input(\"a:  \"))\n",
    "b = float(input(\"b:  \"))\n",
    "print(roots(f, a, b))"
   ]
  },
  {
   "cell_type": "code",
   "execution_count": 71,
   "id": "b4d9ab2a-5b49-425e-a233-37fc0dc85351",
   "metadata": {},
   "outputs": [
    {
     "name": "stdin",
     "output_type": "stream",
     "text": [
      "a:   5\n",
      "b:   7\n"
     ]
    },
    {
     "name": "stdout",
     "output_type": "stream",
     "text": [
      "error\n"
     ]
    },
    {
     "ename": "NameError",
     "evalue": "name 'none' is not defined",
     "output_type": "error",
     "traceback": [
      "\u001b[0;31m---------------------------------------------------------------------------\u001b[0m",
      "\u001b[0;31mNameError\u001b[0m                                 Traceback (most recent call last)",
      "Cell \u001b[0;32mIn[71], line 7\u001b[0m\n\u001b[1;32m      5\u001b[0m a \u001b[38;5;241m=\u001b[39m \u001b[38;5;28mfloat\u001b[39m(\u001b[38;5;28minput\u001b[39m(\u001b[38;5;124m\"\u001b[39m\u001b[38;5;124ma:  \u001b[39m\u001b[38;5;124m\"\u001b[39m))\n\u001b[1;32m      6\u001b[0m b \u001b[38;5;241m=\u001b[39m \u001b[38;5;28mfloat\u001b[39m(\u001b[38;5;28minput\u001b[39m(\u001b[38;5;124m\"\u001b[39m\u001b[38;5;124mb:  \u001b[39m\u001b[38;5;124m\"\u001b[39m))\n\u001b[0;32m----> 7\u001b[0m \u001b[38;5;28mprint\u001b[39m(\u001b[43mroots\u001b[49m\u001b[43m(\u001b[49m\u001b[43mf\u001b[49m\u001b[43m,\u001b[49m\u001b[43m \u001b[49m\u001b[43ma\u001b[49m\u001b[43m,\u001b[49m\u001b[43m \u001b[49m\u001b[43mb\u001b[49m\u001b[43m)\u001b[49m)\n",
      "Cell \u001b[0;32mIn[60], line 6\u001b[0m, in \u001b[0;36mroots\u001b[0;34m(f, a, b)\u001b[0m\n\u001b[1;32m      4\u001b[0m \u001b[38;5;28;01mif\u001b[39;00m f(a)\u001b[38;5;241m*\u001b[39mf(b) \u001b[38;5;241m>\u001b[39m\u001b[38;5;241m=\u001b[39m \u001b[38;5;241m0\u001b[39m:\n\u001b[1;32m      5\u001b[0m         \u001b[38;5;28mprint\u001b[39m(\u001b[38;5;124m\"\u001b[39m\u001b[38;5;124merror\u001b[39m\u001b[38;5;124m\"\u001b[39m)\n\u001b[0;32m----> 6\u001b[0m         \u001b[38;5;28;01mreturn\u001b[39;00m \u001b[43mnone\u001b[49m\n\u001b[1;32m      8\u001b[0m p \u001b[38;5;241m=\u001b[39m \u001b[38;5;241m10\u001b[39m \u001b[38;5;241m*\u001b[39m\u001b[38;5;241m*\u001b[39m \u001b[38;5;241m-\u001b[39m\u001b[38;5;241m10\u001b[39m\n\u001b[1;32m     10\u001b[0m \u001b[38;5;66;03m#perform bisection method\u001b[39;00m\n",
      "\u001b[0;31mNameError\u001b[0m: name 'none' is not defined"
     ]
    }
   ],
   "source": [
    "def f(x):\n",
    "    if x == 0:\n",
    "        x=x+10**-10\n",
    "    return math.log(math.cos(x))\n",
    "a = float(input(\"a:  \"))\n",
    "b = float(input(\"b:  \"))\n",
    "print(roots(f, a, b))"
   ]
  },
  {
   "cell_type": "code",
   "execution_count": null,
   "id": "23456bbc-af5e-452a-bb66-c39fc782e800",
   "metadata": {},
   "outputs": [],
   "source": []
  }
 ],
 "metadata": {
  "kernelspec": {
   "display_name": "Python 3 (ipykernel)",
   "language": "python",
   "name": "python3"
  },
  "language_info": {
   "codemirror_mode": {
    "name": "ipython",
    "version": 3
   },
   "file_extension": ".py",
   "mimetype": "text/x-python",
   "name": "python",
   "nbconvert_exporter": "python",
   "pygments_lexer": "ipython3",
   "version": "3.11.4"
  }
 },
 "nbformat": 4,
 "nbformat_minor": 5
}
