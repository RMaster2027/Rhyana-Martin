{
 "cells": [
  {
   "cell_type": "code",
   "execution_count": 54,
   "id": "12ef6352-aca4-4280-8eda-2061fce71180",
   "metadata": {},
   "outputs": [
    {
     "name": "stdout",
     "output_type": "stream",
     "text": [
      "0.7843981633974483\n",
      "0.7863981633974483\n"
     ]
    }
   ],
   "source": [
    "import numpy as np\n",
    "import math\n",
    "\n",
    "def f(x):\n",
    "    return math.sin(x)\n",
    "\n",
    "c=np.pi/4\n",
    "E= 0.05\n",
    "\n",
    "x1 = c\n",
    "x2 = c\n",
    "delx = 10**(-8)\n",
    "d = 0.001\n",
    "    \n",
    "def fprime(x): \n",
    "    return f(x+delx-f(x-delx))/(2*delx)\n",
    "def L(x):\n",
    "    return f(c)+ fprime(c)*(x-c)\n",
    "        \n",
    "for i in range(100): \n",
    "    x1-= d  \n",
    "    if abs(f(x1)-L(x1)) >= E:\n",
    "        print(x1)\n",
    "        break\n",
    "else: \n",
    "    print(\"no such x1 can be found\")\n",
    "    \n",
    "for j in range(100):\n",
    "    x2+= d\n",
    "    if abs(f(x2)-L(x2)) >= E:\n",
    "        print(x2)\n",
    "        break\n",
    "else: \n",
    "        print (\"no such x2 can be found\")"
   ]
  },
  {
   "cell_type": "code",
   "execution_count": null,
   "id": "42bf7da1-cb0b-4c09-b5b4-fb110e74d193",
   "metadata": {},
   "outputs": [],
   "source": []
  }
 ],
 "metadata": {
  "kernelspec": {
   "display_name": "Python 3 (ipykernel)",
   "language": "python",
   "name": "python3"
  },
  "language_info": {
   "codemirror_mode": {
    "name": "ipython",
    "version": 3
   },
   "file_extension": ".py",
   "mimetype": "text/x-python",
   "name": "python",
   "nbconvert_exporter": "python",
   "pygments_lexer": "ipython3",
   "version": "3.11.4"
  }
 },
 "nbformat": 4,
 "nbformat_minor": 5
}
