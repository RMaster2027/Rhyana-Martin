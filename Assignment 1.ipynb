{
 "cells": [
  {
   "cell_type": "code",
   "execution_count": 1,
   "id": "b4457880-8b42-4cd4-9bd0-21b86e82f035",
   "metadata": {},
   "outputs": [],
   "source": [
    "#given_number: float (input(\"give me\"))\n",
    "\n",
    "def gerald (x):\n",
    "    n = 0\n",
    "    a = 0\n",
    "    error_bound = x**(2*n+1)/(2*n+1)\n",
    "    \n",
    "    if x>=0 and x<=1:\n",
    "        \n",
    "        while error_bound>0.0001:  \n",
    "                n+= 1 \n",
    "                error_bound = x**(2*n+1)/(2*n+1)\n",
    "            \n",
    "        for(i) in range (0, n-1):\n",
    "                a+= ((-1)**i*x**(2*i+1))/(2*i+1)\n",
    "            \n",
    "                other_n=2*n+1\n",
    "        return (a, other_n, error_bound)\n",
    "        \n",
    "    else:\n",
    "        print(\"ERROR!\")"
   ]
  },
  {
   "cell_type": "code",
   "execution_count": 18,
   "id": "78028c8a-5dc6-43eb-b767-14d438e03747",
   "metadata": {},
   "outputs": [
    {
     "name": "stdout",
     "output_type": "stream",
     "text": [
      "ERROR!\n"
     ]
    }
   ],
   "source": [
    "gerald (-1)"
   ]
  },
  {
   "cell_type": "code",
   "execution_count": 19,
   "id": "34fbd56e-80c4-42c6-8fec-26d3c1e9dcb9",
   "metadata": {},
   "outputs": [
    {
     "data": {
      "text/plain": [
       "(0.24479166666666666, 7, 8.719308035714285e-06)"
      ]
     },
     "execution_count": 19,
     "metadata": {},
     "output_type": "execute_result"
    }
   ],
   "source": [
    "gerald (0.25)"
   ]
  },
  {
   "cell_type": "code",
   "execution_count": 20,
   "id": "fef26885-1b3a-43e2-a538-9046f897fd39",
   "metadata": {},
   "outputs": [
    {
     "data": {
      "text/plain": [
       "(0.46346726190476184, 11, 4.438920454545455e-05)"
      ]
     },
     "execution_count": 20,
     "metadata": {},
     "output_type": "execute_result"
    }
   ],
   "source": [
    "gerald (0.5)"
   ]
  },
  {
   "cell_type": "code",
   "execution_count": 21,
   "id": "5098f7a5-2bc9-4b6d-9c11-f64d0c05549d",
   "metadata": {},
   "outputs": [
    {
     "data": {
      "text/plain": [
       "(0.6434262125251309, 23, 5.816761029294689e-05)"
      ]
     },
     "execution_count": 21,
     "metadata": {},
     "output_type": "execute_result"
    }
   ],
   "source": [
    "gerald (0.75)"
   ]
  },
  {
   "cell_type": "code",
   "execution_count": 22,
   "id": "c3fb3729-5a20-4ceb-bd46-71edecade721",
   "metadata": {},
   "outputs": [
    {
     "data": {
      "text/plain": [
       "(0.7854481733989479, 10001, 9.999000099990002e-05)"
      ]
     },
     "execution_count": 22,
     "metadata": {},
     "output_type": "execute_result"
    }
   ],
   "source": [
    "gerald (1)"
   ]
  },
  {
   "cell_type": "code",
   "execution_count": 23,
   "id": "11ba392f-93a7-438b-840e-9196a6358f93",
   "metadata": {},
   "outputs": [
    {
     "name": "stdout",
     "output_type": "stream",
     "text": [
      "ERROR!\n"
     ]
    }
   ],
   "source": [
    "gerald (2)"
   ]
  },
  {
   "cell_type": "code",
   "execution_count": 24,
   "id": "a0c08605-0583-49ba-83b5-7ae830e8b18d",
   "metadata": {},
   "outputs": [
    {
     "ename": "UnboundLocalError",
     "evalue": "cannot access local variable 'other_n' where it is not associated with a value",
     "output_type": "error",
     "traceback": [
      "\u001b[0;31m---------------------------------------------------------------------------\u001b[0m",
      "\u001b[0;31mUnboundLocalError\u001b[0m                         Traceback (most recent call last)",
      "Cell \u001b[0;32mIn[24], line 1\u001b[0m\n\u001b[0;32m----> 1\u001b[0m \u001b[43mgerald\u001b[49m\u001b[43m \u001b[49m\u001b[43m(\u001b[49m\u001b[38;5;241;43m0\u001b[39;49m\u001b[43m)\u001b[49m\n",
      "Cell \u001b[0;32mIn[1], line 18\u001b[0m, in \u001b[0;36mgerald\u001b[0;34m(x)\u001b[0m\n\u001b[1;32m     15\u001b[0m             a\u001b[38;5;241m+\u001b[39m\u001b[38;5;241m=\u001b[39m ((\u001b[38;5;241m-\u001b[39m\u001b[38;5;241m1\u001b[39m)\u001b[38;5;241m*\u001b[39m\u001b[38;5;241m*\u001b[39mi\u001b[38;5;241m*\u001b[39mx\u001b[38;5;241m*\u001b[39m\u001b[38;5;241m*\u001b[39m(\u001b[38;5;241m2\u001b[39m\u001b[38;5;241m*\u001b[39mi\u001b[38;5;241m+\u001b[39m\u001b[38;5;241m1\u001b[39m))\u001b[38;5;241m/\u001b[39m(\u001b[38;5;241m2\u001b[39m\u001b[38;5;241m*\u001b[39mi\u001b[38;5;241m+\u001b[39m\u001b[38;5;241m1\u001b[39m)\n\u001b[1;32m     17\u001b[0m             other_n\u001b[38;5;241m=\u001b[39m\u001b[38;5;241m2\u001b[39m\u001b[38;5;241m*\u001b[39mn\u001b[38;5;241m+\u001b[39m\u001b[38;5;241m1\u001b[39m\n\u001b[0;32m---> 18\u001b[0m     \u001b[38;5;28;01mreturn\u001b[39;00m \u001b[43ma\u001b[49m, other_n, error_bound\n\u001b[1;32m     20\u001b[0m \u001b[38;5;28;01melse\u001b[39;00m:\n\u001b[1;32m     21\u001b[0m     \u001b[38;5;28mprint\u001b[39m(\u001b[38;5;124m\"\u001b[39m\u001b[38;5;124mERROR!\u001b[39m\u001b[38;5;124m\"\u001b[39m)\n",
      "\u001b[0;31mUnboundLocalError\u001b[0m: cannot access local variable 'other_n' where it is not associated with a value"
     ]
    }
   ],
   "source": [
    "gerald (0)"
   ]
  }
 ],
 "metadata": {
  "kernelspec": {
   "display_name": "Python 3 (ipykernel)",
   "language": "python",
   "name": "python3"
  },
  "language_info": {
   "codemirror_mode": {
    "name": "ipython",
    "version": 3
   },
   "file_extension": ".py",
   "mimetype": "text/x-python",
   "name": "python",
   "nbconvert_exporter": "python",
   "pygments_lexer": "ipython3",
   "version": "3.11.4"
  }
 },
 "nbformat": 4,
 "nbformat_minor": 5
}
