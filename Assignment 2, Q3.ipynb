{
 "cells": [
  {
   "cell_type": "code",
   "execution_count": 12,
   "id": "2ff45816-8218-4c61-9d63-cfa67811b015",
   "metadata": {},
   "outputs": [],
   "source": [
    "import numpy as np\n",
    "def funny(x):\n",
    "    if x<=-1:\n",
    "        return 0\n",
    "    elif x>=1:\n",
    "        return 0\n",
    "    else: \n",
    "        return np.exp(1-(1/(1-x**(10**250))))"
   ]
  },
  {
   "cell_type": "code",
   "execution_count": 13,
   "id": "d288de97-839e-46f3-a5f9-1d11a69e1c37",
   "metadata": {},
   "outputs": [
    {
     "data": {
      "text/plain": [
       "0"
      ]
     },
     "execution_count": 13,
     "metadata": {},
     "output_type": "execute_result"
    }
   ],
   "source": [
    "funny(1)"
   ]
  },
  {
   "cell_type": "code",
   "execution_count": 5,
   "id": "9ed6476e-a14b-4e1a-896d-a9b338c66ac8",
   "metadata": {},
   "outputs": [
    {
     "data": {
      "text/plain": [
       "0"
      ]
     },
     "execution_count": 5,
     "metadata": {},
     "output_type": "execute_result"
    }
   ],
   "source": [
    "funny (-1)"
   ]
  },
  {
   "cell_type": "code",
   "execution_count": 8,
   "id": "d2cba55b-0c18-4e02-ae54-1e2fdb6d847d",
   "metadata": {},
   "outputs": [
    {
     "data": {
      "text/plain": [
       "0"
      ]
     },
     "execution_count": 8,
     "metadata": {},
     "output_type": "execute_result"
    }
   ],
   "source": [
    "funny (2)"
   ]
  },
  {
   "cell_type": "code",
   "execution_count": 9,
   "id": "8ecbba05-44a6-4bfd-8636-651c60583715",
   "metadata": {},
   "outputs": [
    {
     "data": {
      "text/plain": [
       "0"
      ]
     },
     "execution_count": 9,
     "metadata": {},
     "output_type": "execute_result"
    }
   ],
   "source": [
    "funny (-2)"
   ]
  },
  {
   "cell_type": "code",
   "execution_count": 10,
   "id": "6f163b89-4537-44eb-a46d-f0bcc97791c7",
   "metadata": {},
   "outputs": [
    {
     "data": {
      "text/plain": [
       "1.0"
      ]
     },
     "execution_count": 10,
     "metadata": {},
     "output_type": "execute_result"
    }
   ],
   "source": [
    "funny (0)"
   ]
  },
  {
   "cell_type": "code",
   "execution_count": 11,
   "id": "8cb0b850-16c5-41fc-9b1f-8c46bd76fba7",
   "metadata": {},
   "outputs": [
    {
     "data": {
      "text/plain": [
       "1.0"
      ]
     },
     "execution_count": 11,
     "metadata": {},
     "output_type": "execute_result"
    }
   ],
   "source": [
    "funny (0.5)"
   ]
  },
  {
   "cell_type": "code",
   "execution_count": 14,
   "id": "7eba59f9-fff6-4f0b-abe0-44a54cca5452",
   "metadata": {},
   "outputs": [
    {
     "data": {
      "text/plain": [
       "1.0"
      ]
     },
     "execution_count": 14,
     "metadata": {},
     "output_type": "execute_result"
    }
   ],
   "source": [
    "funny (0.4)"
   ]
  },
  {
   "cell_type": "code",
   "execution_count": 15,
   "id": "ca773a65-11b0-4776-880b-97d55dfef481",
   "metadata": {},
   "outputs": [
    {
     "data": {
      "text/plain": [
       "1.0"
      ]
     },
     "execution_count": 15,
     "metadata": {},
     "output_type": "execute_result"
    }
   ],
   "source": [
    "funny (0.9999)"
   ]
  },
  {
   "cell_type": "code",
   "execution_count": 16,
   "id": "f339e761-8ba7-4270-928d-c12057edb500",
   "metadata": {},
   "outputs": [
    {
     "data": {
      "text/plain": [
       "1.0"
      ]
     },
     "execution_count": 16,
     "metadata": {},
     "output_type": "execute_result"
    }
   ],
   "source": [
    "funny (-0.9999)"
   ]
  }
 ],
 "metadata": {
  "kernelspec": {
   "display_name": "Python 3 (ipykernel)",
   "language": "python",
   "name": "python3"
  },
  "language_info": {
   "codemirror_mode": {
    "name": "ipython",
    "version": 3
   },
   "file_extension": ".py",
   "mimetype": "text/x-python",
   "name": "python",
   "nbconvert_exporter": "python",
   "pygments_lexer": "ipython3",
   "version": "3.11.4"
  }
 },
 "nbformat": 4,
 "nbformat_minor": 5
}
